{
 "cells": [
  {
   "cell_type": "code",
   "execution_count": 2,
   "id": "d347754a",
   "metadata": {},
   "outputs": [],
   "source": [
    "# avg depat salary sql\n",
    "# what is decorators\n",
    "#context generators\n",
    "# r2 and adjusted r2 difference and can it be negative\n",
    "# activation function\n",
    "# diffrence between decisipon tree and rfc\n",
    "#how sigmoid works in terms of multiclaass class or other use softmax\n",
    "# xgboost"
   ]
  },
  {
   "cell_type": "code",
   "execution_count": null,
   "id": "21be70c1",
   "metadata": {},
   "outputs": [],
   "source": []
  }
 ],
 "metadata": {
  "kernelspec": {
   "display_name": "Python 3 (ipykernel)",
   "language": "python",
   "name": "python3"
  },
  "language_info": {
   "codemirror_mode": {
    "name": "ipython",
    "version": 3
   },
   "file_extension": ".py",
   "mimetype": "text/x-python",
   "name": "python",
   "nbconvert_exporter": "python",
   "pygments_lexer": "ipython3",
   "version": "3.10.9"
  }
 },
 "nbformat": 4,
 "nbformat_minor": 5
}
