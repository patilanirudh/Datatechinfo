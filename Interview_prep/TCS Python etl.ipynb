{
 "cells": [
  {
   "cell_type": "code",
   "execution_count": 1,
   "id": "fdd10f58",
   "metadata": {},
   "outputs": [
    {
     "name": "stdout",
     "output_type": "stream",
     "text": [
      "Collecting pyspark\n",
      "  Downloading pyspark-3.5.2.tar.gz (317.3 MB)\n",
      "     ------------------------------------ 317.3/317.3 MB 519.5 kB/s eta 0:00:00\n",
      "  Preparing metadata (setup.py): started\n",
      "  Preparing metadata (setup.py): finished with status 'done'\n",
      "Collecting py4j==0.10.9.7\n",
      "  Downloading py4j-0.10.9.7-py2.py3-none-any.whl (200 kB)\n",
      "     ------------------------------------ 200.5/200.5 kB 715.2 kB/s eta 0:00:00\n",
      "Building wheels for collected packages: pyspark\n",
      "  Building wheel for pyspark (setup.py): started\n",
      "  Building wheel for pyspark (setup.py): finished with status 'done'\n",
      "  Created wheel for pyspark: filename=pyspark-3.5.2-py2.py3-none-any.whl size=317812414 sha256=3b6add4dc2f1da50fefc5592c01e610cb5eaecf5bb58070612f0cf98554b62aa\n",
      "  Stored in directory: c:\\users\\anirudha patil\\appdata\\local\\pip\\cache\\wheels\\e5\\55\\f5\\61e68d8e430255c0d824d33d7586cc23451ebd1c7ebe6cee32\n",
      "Successfully built pyspark\n",
      "Installing collected packages: py4j, pyspark\n",
      "Successfully installed py4j-0.10.9.7 pyspark-3.5.2\n"
     ]
    }
   ],
   "source": [
    "# !pip install pyspark\n"
   ]
  },
  {
   "cell_type": "code",
   "execution_count": 2,
   "id": "478ae856",
   "metadata": {},
   "outputs": [],
   "source": [
    "#sql approach to find depatment wise salary\n",
    "# sql approach to find employees who do not belong to any dept\n",
    "# inheritence in python\n",
    "# create a df using list of dictonary\n",
    "# what is the use of df.cache()\n",
    "# method overloading can be achived using?>>args and kwargs"
   ]
  },
  {
   "cell_type": "code",
   "execution_count": 4,
   "id": "6a7b7dbf",
   "metadata": {},
   "outputs": [
    {
     "name": "stdout",
     "output_type": "stream",
     "text": [
      "30\n",
      "60\n",
      "Invalid number of arguments\n"
     ]
    }
   ],
   "source": [
    "# ex:\n",
    "class Example:\n",
    "    def add(self, *args):\n",
    "        if len(args) == 2:\n",
    "            return args[0] + args[1]\n",
    "        elif len(args) == 3:\n",
    "            return args[0] + args[1] + args[2]\n",
    "        else:\n",
    "            return \"Invalid number of arguments\"\n",
    "\n",
    "# Create an instance\n",
    "example = Example()\n",
    "\n",
    "# Calling add method with 2 arguments\n",
    "print(example.add(10, 20))  # Output: 30\n",
    "\n",
    "# Calling add method with 3 arguments\n",
    "print(example.add(10, 20, 30))  # Output: 60\n",
    "\n",
    "# Calling add method with incorrect number of arguments\n",
    "print(example.add(10))  # Output: Invalid number of arguments\n"
   ]
  },
  {
   "cell_type": "code",
   "execution_count": 5,
   "id": "060e5976",
   "metadata": {},
   "outputs": [],
   "source": [
    "import pyspark"
   ]
  },
  {
   "cell_type": "code",
   "execution_count": 6,
   "id": "9826c983",
   "metadata": {},
   "outputs": [],
   "source": [
    "from pyspark.sql import SparkSession"
   ]
  },
  {
   "cell_type": "code",
   "execution_count": null,
   "id": "7d323540",
   "metadata": {},
   "outputs": [],
   "source": []
  }
 ],
 "metadata": {
  "kernelspec": {
   "display_name": "Python 3 (ipykernel)",
   "language": "python",
   "name": "python3"
  },
  "language_info": {
   "codemirror_mode": {
    "name": "ipython",
    "version": 3
   },
   "file_extension": ".py",
   "mimetype": "text/x-python",
   "name": "python",
   "nbconvert_exporter": "python",
   "pygments_lexer": "ipython3",
   "version": "3.10.9"
  }
 },
 "nbformat": 4,
 "nbformat_minor": 5
}
