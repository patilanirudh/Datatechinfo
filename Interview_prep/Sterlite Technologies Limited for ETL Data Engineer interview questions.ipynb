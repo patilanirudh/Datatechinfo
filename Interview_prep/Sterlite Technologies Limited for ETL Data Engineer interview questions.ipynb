{
 "cells": [
  {
   "cell_type": "code",
   "execution_count": null,
   "id": "2fa01206",
   "metadata": {},
   "outputs": [],
   "source": [
    "# emp id ,name ,address sal ,dapt\n",
    "\n",
    "# select max(salary) from employee where salary<(select max(salary) from employee)\n",
    "\n",
    "# select salary,dpartmentid from employee where (salary,departmentid) in ( select (salary),departmentid from employee group by salary,departmentid)\n",
    "\n",
    "# select * from(select *,dense_rank() over( partition by departmentid order by salary desc) as rank from employee) as a where rank=2\n",
    "\n",
    "# ct_id,cat_name\n",
    "# 1   table \n",
    "# 1   chair\n",
    "\n",
    "\n",
    "# select id,cat_name from x group by id\n",
    "#  - L1 position \n",
    "# data warehouse\n",
    "# sql optimization\n",
    "# index s\n",
    "# cte and view\n",
    "# rank functions\n",
    "\n",
    "\n",
    "\n",
    "\n",
    "\n"
   ]
  }
 ],
 "metadata": {
  "kernelspec": {
   "display_name": "Python 3 (ipykernel)",
   "language": "python",
   "name": "python3"
  },
  "language_info": {
   "codemirror_mode": {
    "name": "ipython",
    "version": 3
   },
   "file_extension": ".py",
   "mimetype": "text/x-python",
   "name": "python",
   "nbconvert_exporter": "python",
   "pygments_lexer": "ipython3",
   "version": "3.10.9"
  }
 },
 "nbformat": 4,
 "nbformat_minor": 5
}
