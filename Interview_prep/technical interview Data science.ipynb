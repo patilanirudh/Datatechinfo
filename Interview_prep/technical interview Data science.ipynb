{
 "cells": [
  {
   "cell_type": "code",
   "execution_count": 1,
   "id": "a479d610",
   "metadata": {},
   "outputs": [],
   "source": [
    "# what is multithreading and multiprocessing\n",
    "# what is CTE in sql\n",
    "# decorators in python\n",
    "#use of async\n",
    "# what is multicollinearity\n",
    "# evalution ,etrics of regression and classification\n",
    "#"
   ]
  },
  {
   "cell_type": "code",
   "execution_count": 2,
   "id": "bf9476ea",
   "metadata": {},
   "outputs": [
    {
     "ename": "SyntaxError",
     "evalue": "invalid decimal literal (3663770222.py, line 2)",
     "output_type": "error",
     "traceback": [
      "\u001b[1;36m  Cell \u001b[1;32mIn[2], line 2\u001b[1;36m\u001b[0m\n\u001b[1;33m    1.print till n without loops\u001b[0m\n\u001b[1;37m     ^\u001b[0m\n\u001b[1;31mSyntaxError\u001b[0m\u001b[1;31m:\u001b[0m invalid decimal literal\n"
     ]
    }
   ],
   "source": [
    "#coding\n",
    "# 1.print till n without loops\n",
    "# 2.print the letters not there alphabets of given string\n",
    "# 3.print largest pallindrome possible in given string"
   ]
  },
  {
   "cell_type": "code",
   "execution_count": 6,
   "id": "2de070c7",
   "metadata": {},
   "outputs": [
    {
     "name": "stdout",
     "output_type": "stream",
     "text": [
      "['a', 'l', 'y', 'z']\n"
     ]
    }
   ],
   "source": [
    "a = \"The quick brown fox jumps over the dog\"\n",
    "x='abcdefghijklmnopqrstuvwxyz'\n",
    "z=[]\n",
    "\n",
    "h=[i for i in a.lower()]\n",
    "j=[i for i in x]\n",
    "\n",
    "for i in h:\n",
    "    if i in j:\n",
    "        j.remove(i)\n",
    "print(j)\n",
    "\n"
   ]
  },
  {
   "cell_type": "code",
   "execution_count": 3,
   "id": "d94ba832",
   "metadata": {},
   "outputs": [
    {
     "data": {
      "text/plain": [
       "'racecar'"
      ]
     },
     "execution_count": 3,
     "metadata": {},
     "output_type": "execute_result"
    }
   ],
   "source": [
    "a= \"zadracecaraaj\"\n",
    "def is_palindrome(s):\n",
    "    return s == s[::-1]\n",
    "\n",
    "def longest_palindrome(s):\n",
    "    n = len(s)\n",
    "    longest = \"\"\n",
    "\n",
    "    # Check all substrings\n",
    "    for i in range(n):\n",
    "        for j in range(i + 1, n + 1):\n",
    "            substring = s[i:j]\n",
    "            if is_palindrome(substring) and len(substring) > len(longest):\n",
    "                longest = substring\n",
    "    \n",
    "    return longest\n",
    "longest_palindrome(a)"
   ]
  },
  {
   "cell_type": "code",
   "execution_count": null,
   "id": "97d0b4f6",
   "metadata": {},
   "outputs": [],
   "source": []
  }
 ],
 "metadata": {
  "kernelspec": {
   "display_name": "Python 3 (ipykernel)",
   "language": "python",
   "name": "python3"
  },
  "language_info": {
   "codemirror_mode": {
    "name": "ipython",
    "version": 3
   },
   "file_extension": ".py",
   "mimetype": "text/x-python",
   "name": "python",
   "nbconvert_exporter": "python",
   "pygments_lexer": "ipython3",
   "version": "3.10.9"
  }
 },
 "nbformat": 4,
 "nbformat_minor": 5
}
