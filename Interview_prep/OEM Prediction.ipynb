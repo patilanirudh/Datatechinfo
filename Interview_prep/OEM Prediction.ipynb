{
 "cells": [
  {
   "cell_type": "code",
   "execution_count": null,
   "id": "07acfb8e",
   "metadata": {},
   "outputs": [],
   "source": [
    "accounts\n",
    "id,open_date,city,\n",
    "\n",
    "transactions\n",
    "t_id,t_date,sender_id,receiver_id,amount,is_sucess\n",
    "accounts\n",
    "id,open_date,city,\n",
    "\n",
    "transactions\n",
    "t_id,t_date,sender_id,receiver_id,amount,is_sucess\n",
    "top 10 customers based on total amount send to othe bank customeres\n",
    "\n",
    "x=pd.merge(accounts,transactions,on='sender_id',how='inner')\n",
    "\n",
    "y=x.group_by(sender_id)['amount'].sum().sort_values(by='amount',ascending=)\n",
    "y=x.sort_values(by='amount',ascending='false')\n",
    "\n",
    "\n",
    "y[(y.is_success='True')]\n",
    "y.head(10)\n"
   ]
  },
  {
   "cell_type": "code",
   "execution_count": 18,
   "id": "d4739ef3",
   "metadata": {},
   "outputs": [
    {
     "data": {
      "text/plain": [
       "(100, 3)"
      ]
     },
     "execution_count": 18,
     "metadata": {},
     "output_type": "execute_result"
    }
   ],
   "source": [
    "import random\n",
    "\n",
    "# Define keywords and phrases for each OEM\n",
    "keywords = {\n",
    "    'Microsoft': ['Microsoft', 'Azure', 'Office', 'Windows'],\n",
    "    'Apple': ['Apple', 'MacBook', 'iPhone', 'iPad'],\n",
    "    'Google': ['Google', 'Cloud', 'Workspace', 'Android']\n",
    "}\n",
    "\n",
    "# Function to generate a random title and description\n",
    "def generate_random_entry():\n",
    "    oem = random.choice(list(keywords.keys()))\n",
    "    title_keyword = random.choice(keywords[oem])\n",
    "    description_keyword = random.choice(keywords[oem])\n",
    "    title = f'{title_keyword} {random.choice([\"Purchase\", \"Subscription\", \"License\", \"Service\"])}'\n",
    "    description = f'{random.choice([\"Bought\", \"Purchased\", \"Subscribed to\"])} {description_keyword} for {random.choice([\"team productivity\", \"development\", \"scalable computing\", \"collaboration\"])}'\n",
    "    return title, description, oem\n",
    "\n",
    "# Generate 100 rows of data\n",
    "data = [generate_random_entry() for _ in range(100)]\n",
    "\n",
    "# Create a DataFrame\n",
    "df = pd.DataFrame(data, columns=['title', 'description', 'oem'])\n",
    "df.shape\n"
   ]
  },
  {
   "cell_type": "code",
   "execution_count": 19,
   "id": "adcc40c0",
   "metadata": {},
   "outputs": [],
   "source": [
    "from sklearn.linear_model import LogisticRegression\n",
    "from sklearn.metrics import accuracy_score,classification_report"
   ]
  },
  {
   "cell_type": "code",
   "execution_count": 20,
   "id": "eb50d8c8",
   "metadata": {},
   "outputs": [
    {
     "name": "stdout",
     "output_type": "stream",
     "text": [
      "1.0\n",
      "              precision    recall  f1-score   support\n",
      "\n",
      "       Apple       1.00      1.00      1.00         5\n",
      "      Google       1.00      1.00      1.00         9\n",
      "   Microsoft       1.00      1.00      1.00         6\n",
      "\n",
      "    accuracy                           1.00        20\n",
      "   macro avg       1.00      1.00      1.00        20\n",
      "weighted avg       1.00      1.00      1.00        20\n",
      "\n"
     ]
    }
   ],
   "source": [
    "# Concatenate title and description\n",
    "df['text'] = df['title'] + ' ' + df['description']\n",
    "\n",
    "# Split the data into training and testing sets\n",
    "X = df['text']\n",
    "y = df['oem']\n",
    "X_train, X_test, y_train, y_test = train_test_split(X, y, test_size=0.2, random_state=42)\n",
    "\n",
    "# Vectorize the text data\n",
    "vectorizer = TfidfVectorizer()\n",
    "X_train_vectorized = vectorizer.fit_transform(X_train)\n",
    "X_test_vectorized = vectorizer.transform(X_test)\n",
    "\n",
    "# Create and train the model\n",
    "model = LogisticRegression()\n",
    "model.fit(X_train_vectorized, y_train)\n",
    "\n",
    "# Make predictions on the test set\n",
    "y_pred = model.predict(X_test_vectorized)\n",
    "\n",
    "# Evaluate the model\n",
    "accuracy = accuracy_score(y_test, y_pred)\n",
    "report = classification_report(y_test, y_pred)\n",
    "\n",
    "print(accuracy)\n",
    "print( report)\n"
   ]
  },
  {
   "cell_type": "code",
   "execution_count": 23,
   "id": "94d603f6",
   "metadata": {},
   "outputs": [
    {
     "data": {
      "text/plain": [
       "array(['Microsoft', 'Google', 'Google', 'Microsoft', 'Microsoft',\n",
       "       'Microsoft', 'Apple', 'Microsoft', 'Google', 'Google', 'Google',\n",
       "       'Google', 'Apple', 'Google', 'Google', 'Google', 'Apple',\n",
       "       'Microsoft', 'Apple', 'Apple'], dtype=object)"
      ]
     },
     "execution_count": 23,
     "metadata": {},
     "output_type": "execute_result"
    }
   ],
   "source": [
    "y_pred"
   ]
  },
  {
   "cell_type": "code",
   "execution_count": null,
   "id": "9846dac0",
   "metadata": {},
   "outputs": [],
   "source": []
  },
  {
   "cell_type": "code",
   "execution_count": null,
   "id": "2b4d1f58",
   "metadata": {},
   "outputs": [],
   "source": []
  }
 ],
 "metadata": {
  "kernelspec": {
   "display_name": "Python 3 (ipykernel)",
   "language": "python",
   "name": "python3"
  },
  "language_info": {
   "codemirror_mode": {
    "name": "ipython",
    "version": 3
   },
   "file_extension": ".py",
   "mimetype": "text/x-python",
   "name": "python",
   "nbconvert_exporter": "python",
   "pygments_lexer": "ipython3",
   "version": "3.10.9"
  }
 },
 "nbformat": 4,
 "nbformat_minor": 5
}
